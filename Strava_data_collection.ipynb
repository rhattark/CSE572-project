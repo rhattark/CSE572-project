{
 "cells": [
  {
   "cell_type": "code",
   "execution_count": 1,
   "id": "f33093bc-27cf-4e3a-84f0-c74c82c4e1e3",
   "metadata": {},
   "outputs": [],
   "source": [
    "ACCESS_TOKEN='ab65930abc938120cfe8e6f95adffe91147268bb'"
   ]
  },
  {
   "cell_type": "code",
   "execution_count": 8,
   "id": "f32d941c-b3fe-4933-ad03-ae698cc046a3",
   "metadata": {},
   "outputs": [
    {
     "ename": "ModuleNotFoundError",
     "evalue": "No module named 'swagger_client'",
     "output_type": "error",
     "traceback": [
      "\u001b[0;31m---------------------------------------------------------------------------\u001b[0m",
      "\u001b[0;31mModuleNotFoundError\u001b[0m                       Traceback (most recent call last)",
      "Cell \u001b[0;32mIn[8], line 2\u001b[0m\n\u001b[1;32m      1\u001b[0m \u001b[38;5;28;01mimport\u001b[39;00m \u001b[38;5;21;01mtime\u001b[39;00m\n\u001b[0;32m----> 2\u001b[0m \u001b[38;5;28;01mfrom\u001b[39;00m \u001b[38;5;21;01mswagger_generated\u001b[39;00m \u001b[38;5;28;01mimport\u001b[39;00m swagger_client\n\u001b[1;32m      3\u001b[0m \u001b[38;5;28;01mfrom\u001b[39;00m \u001b[38;5;21;01mswagger_generated\u001b[39;00m\u001b[38;5;21;01m.\u001b[39;00m\u001b[38;5;21;01mswagger_client\u001b[39;00m\u001b[38;5;21;01m.\u001b[39;00m\u001b[38;5;21;01mrest\u001b[39;00m \u001b[38;5;28;01mimport\u001b[39;00m ApiException\n\u001b[1;32m      4\u001b[0m \u001b[38;5;28;01mfrom\u001b[39;00m \u001b[38;5;21;01mpprint\u001b[39;00m \u001b[38;5;28;01mimport\u001b[39;00m pprint\n",
      "File \u001b[0;32m~/Documents/code/CSE572-project/swagger_generated/swagger_client/__init__.py:18\u001b[0m\n\u001b[1;32m     15\u001b[0m \u001b[38;5;28;01mfrom\u001b[39;00m \u001b[38;5;21;01m__future__\u001b[39;00m \u001b[38;5;28;01mimport\u001b[39;00m absolute_import\n\u001b[1;32m     17\u001b[0m \u001b[38;5;66;03m# import apis into sdk package\u001b[39;00m\n\u001b[0;32m---> 18\u001b[0m \u001b[38;5;28;01mfrom\u001b[39;00m \u001b[38;5;21;01mswagger_client\u001b[39;00m\u001b[38;5;21;01m.\u001b[39;00m\u001b[38;5;21;01mapi\u001b[39;00m\u001b[38;5;21;01m.\u001b[39;00m\u001b[38;5;21;01mpet_api\u001b[39;00m \u001b[38;5;28;01mimport\u001b[39;00m PetApi\n\u001b[1;32m     19\u001b[0m \u001b[38;5;28;01mfrom\u001b[39;00m \u001b[38;5;21;01mswagger_client\u001b[39;00m\u001b[38;5;21;01m.\u001b[39;00m\u001b[38;5;21;01mapi\u001b[39;00m\u001b[38;5;21;01m.\u001b[39;00m\u001b[38;5;21;01mstore_api\u001b[39;00m \u001b[38;5;28;01mimport\u001b[39;00m StoreApi\n\u001b[1;32m     20\u001b[0m \u001b[38;5;28;01mfrom\u001b[39;00m \u001b[38;5;21;01mswagger_client\u001b[39;00m\u001b[38;5;21;01m.\u001b[39;00m\u001b[38;5;21;01mapi\u001b[39;00m\u001b[38;5;21;01m.\u001b[39;00m\u001b[38;5;21;01muser_api\u001b[39;00m \u001b[38;5;28;01mimport\u001b[39;00m UserApi\n",
      "\u001b[0;31mModuleNotFoundError\u001b[0m: No module named 'swagger_client'"
     ]
    }
   ],
   "source": [
    "import time\n",
    "from swagger_generated import swagger_client\n",
    "from swagger_generated.swagger_client.rest import ApiException\n",
    "from pprint import pprint\n",
    "\n",
    "# Configure OAuth2 access token for authorization: strava_oauth\n",
    "swagger_client.configuration.access_token = ACCESS_TOKEN\n",
    "\n",
    "# create an instance of the API class\n",
    "api_instance = swagger_client.AthletesApi()\n",
    "\n",
    "try: \n",
    "    # Get Authenticated Athlete\n",
    "    api_response = api_instance.getLoggedInAthlete()\n",
    "    pprint(api_response)\n",
    "except ApiException as e:\n",
    "    print(\"Exception when calling AthletesApi->getLoggedInAthlete: %s\\n\" % e)"
   ]
  },
  {
   "cell_type": "code",
   "execution_count": 14,
   "id": "539e3ea2-dc66-4bec-bed8-539bbc9cfdd6",
   "metadata": {},
   "outputs": [
    {
     "ename": "SyntaxError",
     "evalue": "invalid syntax (3065338857.py, line 2)",
     "output_type": "error",
     "traceback": [
      "\u001b[0;36m  Cell \u001b[0;32mIn[14], line 2\u001b[0;36m\u001b[0m\n\u001b[0;31m    from './python-client-generate' import swagger_client\u001b[0m\n\u001b[0m         ^\u001b[0m\n\u001b[0;31mSyntaxError\u001b[0m\u001b[0;31m:\u001b[0m invalid syntax\n"
     ]
    }
   ],
   "source": [
    "try:\n",
    "    from './python-client-generate' import swagger_client\n",
    "except ImportError as e:\n",
    "    print(e)"
   ]
  }
 ],
 "metadata": {
  "kernelspec": {
   "display_name": "Python 3 (ipykernel)",
   "language": "python",
   "name": "python3"
  },
  "language_info": {
   "codemirror_mode": {
    "name": "ipython",
    "version": 3
   },
   "file_extension": ".py",
   "mimetype": "text/x-python",
   "name": "python",
   "nbconvert_exporter": "python",
   "pygments_lexer": "ipython3",
   "version": "3.11.5"
  }
 },
 "nbformat": 4,
 "nbformat_minor": 5
}
