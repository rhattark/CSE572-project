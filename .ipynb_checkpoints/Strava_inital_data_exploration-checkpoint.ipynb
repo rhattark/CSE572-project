{
 "cells": [
  {
   "cell_type": "code",
   "execution_count": 2,
   "id": "0f011a3e-4885-4d41-802a-6d2a329e2830",
   "metadata": {},
   "outputs": [],
   "source": [
    "import json"
   ]
  },
  {
   "cell_type": "code",
   "execution_count": 6,
   "id": "7e2db6e7-64ce-41f6-ae02-4298f62595cc",
   "metadata": {},
   "outputs": [
    {
     "name": "stdout",
     "output_type": "stream",
     "text": [
      "{'id': 3506416, 'username': 'rhish_hatt', 'resource_state': 2, 'firstname': 'Rhish', 'lastname': 'Hatt', 'bio': 'ASU Grad Student 🔱 🚴\\u200d♂️', 'city': 'Tempe', 'state': 'Arizona', 'country': 'United States', 'sex': 'M', 'premium': True, 'summit': True, 'created_at': '2013-12-17T14:40:20Z', 'updated_at': '2023-09-18T01:41:06Z', 'badge_type_id': 1, 'weight': 79.0, 'profile_medium': 'https://dgalywyr863hv.cloudfront.net/pictures/athletes/3506416/1139281/30/medium.jpg', 'profile': 'https://dgalywyr863hv.cloudfront.net/pictures/athletes/3506416/1139281/30/large.jpg', 'friend': None, 'follower': None}\n"
     ]
    }
   ],
   "source": [
    "basic_athlete_info = json.loads('''{\n",
    "    \"id\": 3506416,\n",
    "    \"username\": \"rhish_hatt\",\n",
    "    \"resource_state\": 2,\n",
    "    \"firstname\": \"Rhish\",\n",
    "    \"lastname\": \"Hatt\",\n",
    "    \"bio\": \"ASU Grad Student 🔱 🚴‍♂️\",\n",
    "    \"city\": \"Tempe\",\n",
    "    \"state\": \"Arizona\",\n",
    "    \"country\": \"United States\",\n",
    "    \"sex\": \"M\",\n",
    "    \"premium\": true,\n",
    "    \"summit\": true,\n",
    "    \"created_at\": \"2013-12-17T14:40:20Z\",\n",
    "    \"updated_at\": \"2023-09-18T01:41:06Z\",\n",
    "    \"badge_type_id\": 1,\n",
    "    \"weight\": 79.0,\n",
    "    \"profile_medium\": \"https://dgalywyr863hv.cloudfront.net/pictures/athletes/3506416/1139281/30/medium.jpg\",\n",
    "    \"profile\": \"https://dgalywyr863hv.cloudfront.net/pictures/athletes/3506416/1139281/30/large.jpg\",\n",
    "    \"friend\": null,\n",
    "    \"follower\": null\n",
    "}''')\n",
    "\n",
    "print(basic_athlete_info)"
   ]
  },
  {
   "cell_type": "code",
   "execution_count": 18,
   "id": "2f0ca17e-2986-42bf-ad26-027a6dfef7f7",
   "metadata": {
    "scrolled": true
   },
   "outputs": [
    {
     "name": "stdout",
     "output_type": "stream",
     "text": [
      "1586\n"
     ]
    }
   ],
   "source": [
    "import requests\n",
    "import urllib3\n",
    "urllib3.disable_warnings(urllib3.exceptions.InsecureRequestWarning)\n",
    "\n",
    "auth_url = \"https://www.strava.com/oauth/token\"\n",
    "activites_url = \"https://www.strava.com/api/v3/athlete/activities\"\n",
    "access_token = \"bdf53f4dad1073eb68c4a8451ee17efddb73e466\"\n",
    "header = {'Authorization': 'Bearer ' + access_token}\n",
    "full_dataset = []\n",
    "page = 1\n",
    "\n",
    "while True:\n",
    "    param = {'per_page': 200, 'page': page}\n",
    "    page_dataset = requests.get(activites_url, headers=header, params=param).json()\n",
    "    if len(page_dataset) == 0:\n",
    "        break\n",
    "    page += 1\n",
    "    full_dataset.extend(page_dataset)\n",
    "\n",
    "print(len(full_dataset))"
   ]
  },
  {
   "cell_type": "code",
   "execution_count": 22,
   "id": "1c7655da-ad7d-4e9a-b527-7ebf27405ce5",
   "metadata": {},
   "outputs": [
    {
     "name": "stderr",
     "output_type": "stream",
     "text": [
      "IOPub data rate exceeded.\n",
      "The Jupyter server will temporarily stop sending output\n",
      "to the client in order to avoid crashing it.\n",
      "To change this limit, set the config variable\n",
      "`--ServerApp.iopub_data_rate_limit`.\n",
      "\n",
      "Current values:\n",
      "ServerApp.iopub_data_rate_limit=1000000.0 (bytes/sec)\n",
      "ServerApp.rate_limit_window=3.0 (secs)\n",
      "\n"
     ]
    }
   ],
   "source": [
    "print(json.dumps(full_dataset, indent=4))"
   ]
  }
 ],
 "metadata": {
  "kernelspec": {
   "display_name": "Python 3 (ipykernel)",
   "language": "python",
   "name": "python3"
  },
  "language_info": {
   "codemirror_mode": {
    "name": "ipython",
    "version": 3
   },
   "file_extension": ".py",
   "mimetype": "text/x-python",
   "name": "python",
   "nbconvert_exporter": "python",
   "pygments_lexer": "ipython3",
   "version": "3.11.5"
  }
 },
 "nbformat": 4,
 "nbformat_minor": 5
}
